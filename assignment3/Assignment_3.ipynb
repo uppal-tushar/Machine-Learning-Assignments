{
 "cells": [
  {
   "cell_type": "code",
   "execution_count": 7,
   "metadata": {},
   "outputs": [
    {
     "name": "stdout",
     "output_type": "stream",
     "text": [
      "0.0303030303030303\n"
     ]
    }
   ],
   "source": [
    "# Question 1\n",
    "def fun(a,b,c):#P(A),P(B),P(A/B)\n",
    "    return ((c*b)/a)\n",
    "print(fun((11/36),(6/36),(2/36)))#P(B/A)"
   ]
  },
  {
   "cell_type": "code",
   "execution_count": 1,
   "metadata": {},
   "outputs": [
    {
     "name": "stdout",
     "output_type": "stream",
     "text": [
      "0.5666666666666667\n"
     ]
    }
   ],
   "source": [
    "# Question 2\n",
    "a=6/10 #Probability of Black Ball from first Bag\n",
    "b=1/2  #Probability of first Bag\n",
    "c=3/7  #Probability of Black Ball from Second Bag\n",
    "d=1/2  #Probability of Second Bag\n",
    "e=9/17 #Sample Space\n",
    "print((a*b)/e) # Probability that Black Ball is drwan from first Bag"
   ]
  },
  {
   "cell_type": "code",
   "execution_count": 2,
   "metadata": {},
   "outputs": [
    {
     "name": "stdout",
     "output_type": "stream",
     "text": [
      "0.28571428571428564\n"
     ]
    }
   ],
   "source": [
    "# Question 3\n",
    "a=1/6 # Probability of Four \n",
    "b=2/3 # Probability of truth\n",
    "c=1-(1/6) # Probability it is not four\n",
    "d=1-(2/3) # Probability that he is lying\n",
    "print((a*b)/((a*b)+c*d)) # Probability that it is actually Four"
   ]
  },
  {
   "cell_type": "code",
   "execution_count": null,
   "metadata": {},
   "outputs": [],
   "source": []
  }
 ],
 "metadata": {
  "kernelspec": {
   "display_name": "Python 3",
   "language": "python",
   "name": "python3"
  },
  "language_info": {
   "codemirror_mode": {
    "name": "ipython",
    "version": 3
   },
   "file_extension": ".py",
   "mimetype": "text/x-python",
   "name": "python",
   "nbconvert_exporter": "python",
   "pygments_lexer": "ipython3",
   "version": "3.7.1"
  }
 },
 "nbformat": 4,
 "nbformat_minor": 2
}
